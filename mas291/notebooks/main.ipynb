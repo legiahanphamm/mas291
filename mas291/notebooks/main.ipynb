{
 "cells": [
  {
   "metadata": {},
   "cell_type": "markdown",
   "source": [
    "# 1. Dataset Overview:\n",
    "## 1.1. Install libraries"
   ],
   "id": "6416c5d350b22f61"
  },
  {
   "metadata": {
    "ExecuteTime": {
     "end_time": "2024-10-19T10:00:17.800182Z",
     "start_time": "2024-10-19T10:00:17.796316Z"
    }
   },
   "cell_type": "code",
   "source": "# !pip install -r requirements.txt",
   "id": "136be7115a259749",
   "outputs": [],
   "execution_count": 38
  },
  {
   "metadata": {
    "ExecuteTime": {
     "end_time": "2024-10-19T10:00:17.825912Z",
     "start_time": "2024-10-19T10:00:17.817820Z"
    }
   },
   "cell_type": "code",
   "source": [
    "import matplotlib.pyplot as plt\n",
    "import numpy as np\n",
    "import pandas as pd\n",
    "import scipy.stats as stats\n",
    "import seaborn as sns\n",
    "\n",
    "from scipy.stats import t, norm"
   ],
   "id": "13a969ebd9f2cb6e",
   "outputs": [],
   "execution_count": 39
  },
  {
   "metadata": {},
   "cell_type": "markdown",
   "source": "## 1.2. Load data",
   "id": "3fdd775a267d0e17"
  },
  {
   "metadata": {
    "ExecuteTime": {
     "end_time": "2024-10-19T10:00:17.850220Z",
     "start_time": "2024-10-19T10:00:17.840812Z"
    }
   },
   "cell_type": "code",
   "source": [
    "# Load data\n",
    "filepath = '../data/Sleep_health_and_lifestyle_dataset.csv'\n",
    "data = pd.read_csv(filepath)"
   ],
   "id": "7c16a42d146f77c1",
   "outputs": [],
   "execution_count": 40
  },
  {
   "metadata": {
    "ExecuteTime": {
     "end_time": "2024-10-19T10:00:17.881043Z",
     "start_time": "2024-10-19T10:00:17.866332Z"
    }
   },
   "cell_type": "code",
   "source": "data",
   "id": "59610d70412757cc",
   "outputs": [
    {
     "data": {
      "text/plain": [
       "     Person ID  Gender  Age            Occupation  Sleep Duration  \\\n",
       "0            1    Male   27     Software Engineer             6.1   \n",
       "1            2    Male   28                Doctor             6.2   \n",
       "2            3    Male   28                Doctor             6.2   \n",
       "3            4    Male   28  Sales Representative             5.9   \n",
       "4            5    Male   28  Sales Representative             5.9   \n",
       "..         ...     ...  ...                   ...             ...   \n",
       "369        370  Female   59                 Nurse             8.1   \n",
       "370        371  Female   59                 Nurse             8.0   \n",
       "371        372  Female   59                 Nurse             8.1   \n",
       "372        373  Female   59                 Nurse             8.1   \n",
       "373        374  Female   59                 Nurse             8.1   \n",
       "\n",
       "     Quality of Sleep  Physical Activity Level  Stress Level BMI Category  \\\n",
       "0                   6                       42             6   Overweight   \n",
       "1                   6                       60             8       Normal   \n",
       "2                   6                       60             8       Normal   \n",
       "3                   4                       30             8        Obese   \n",
       "4                   4                       30             8        Obese   \n",
       "..                ...                      ...           ...          ...   \n",
       "369                 9                       75             3   Overweight   \n",
       "370                 9                       75             3   Overweight   \n",
       "371                 9                       75             3   Overweight   \n",
       "372                 9                       75             3   Overweight   \n",
       "373                 9                       75             3   Overweight   \n",
       "\n",
       "    Blood Pressure  Heart Rate  Daily Steps Sleep Disorder  \n",
       "0           126/83          77         4200            NaN  \n",
       "1           125/80          75        10000            NaN  \n",
       "2           125/80          75        10000            NaN  \n",
       "3           140/90          85         3000    Sleep Apnea  \n",
       "4           140/90          85         3000    Sleep Apnea  \n",
       "..             ...         ...          ...            ...  \n",
       "369         140/95          68         7000    Sleep Apnea  \n",
       "370         140/95          68         7000    Sleep Apnea  \n",
       "371         140/95          68         7000    Sleep Apnea  \n",
       "372         140/95          68         7000    Sleep Apnea  \n",
       "373         140/95          68         7000    Sleep Apnea  \n",
       "\n",
       "[374 rows x 13 columns]"
      ],
      "text/html": [
       "<div>\n",
       "<style scoped>\n",
       "    .dataframe tbody tr th:only-of-type {\n",
       "        vertical-align: middle;\n",
       "    }\n",
       "\n",
       "    .dataframe tbody tr th {\n",
       "        vertical-align: top;\n",
       "    }\n",
       "\n",
       "    .dataframe thead th {\n",
       "        text-align: right;\n",
       "    }\n",
       "</style>\n",
       "<table border=\"1\" class=\"dataframe\">\n",
       "  <thead>\n",
       "    <tr style=\"text-align: right;\">\n",
       "      <th></th>\n",
       "      <th>Person ID</th>\n",
       "      <th>Gender</th>\n",
       "      <th>Age</th>\n",
       "      <th>Occupation</th>\n",
       "      <th>Sleep Duration</th>\n",
       "      <th>Quality of Sleep</th>\n",
       "      <th>Physical Activity Level</th>\n",
       "      <th>Stress Level</th>\n",
       "      <th>BMI Category</th>\n",
       "      <th>Blood Pressure</th>\n",
       "      <th>Heart Rate</th>\n",
       "      <th>Daily Steps</th>\n",
       "      <th>Sleep Disorder</th>\n",
       "    </tr>\n",
       "  </thead>\n",
       "  <tbody>\n",
       "    <tr>\n",
       "      <th>0</th>\n",
       "      <td>1</td>\n",
       "      <td>Male</td>\n",
       "      <td>27</td>\n",
       "      <td>Software Engineer</td>\n",
       "      <td>6.1</td>\n",
       "      <td>6</td>\n",
       "      <td>42</td>\n",
       "      <td>6</td>\n",
       "      <td>Overweight</td>\n",
       "      <td>126/83</td>\n",
       "      <td>77</td>\n",
       "      <td>4200</td>\n",
       "      <td>NaN</td>\n",
       "    </tr>\n",
       "    <tr>\n",
       "      <th>1</th>\n",
       "      <td>2</td>\n",
       "      <td>Male</td>\n",
       "      <td>28</td>\n",
       "      <td>Doctor</td>\n",
       "      <td>6.2</td>\n",
       "      <td>6</td>\n",
       "      <td>60</td>\n",
       "      <td>8</td>\n",
       "      <td>Normal</td>\n",
       "      <td>125/80</td>\n",
       "      <td>75</td>\n",
       "      <td>10000</td>\n",
       "      <td>NaN</td>\n",
       "    </tr>\n",
       "    <tr>\n",
       "      <th>2</th>\n",
       "      <td>3</td>\n",
       "      <td>Male</td>\n",
       "      <td>28</td>\n",
       "      <td>Doctor</td>\n",
       "      <td>6.2</td>\n",
       "      <td>6</td>\n",
       "      <td>60</td>\n",
       "      <td>8</td>\n",
       "      <td>Normal</td>\n",
       "      <td>125/80</td>\n",
       "      <td>75</td>\n",
       "      <td>10000</td>\n",
       "      <td>NaN</td>\n",
       "    </tr>\n",
       "    <tr>\n",
       "      <th>3</th>\n",
       "      <td>4</td>\n",
       "      <td>Male</td>\n",
       "      <td>28</td>\n",
       "      <td>Sales Representative</td>\n",
       "      <td>5.9</td>\n",
       "      <td>4</td>\n",
       "      <td>30</td>\n",
       "      <td>8</td>\n",
       "      <td>Obese</td>\n",
       "      <td>140/90</td>\n",
       "      <td>85</td>\n",
       "      <td>3000</td>\n",
       "      <td>Sleep Apnea</td>\n",
       "    </tr>\n",
       "    <tr>\n",
       "      <th>4</th>\n",
       "      <td>5</td>\n",
       "      <td>Male</td>\n",
       "      <td>28</td>\n",
       "      <td>Sales Representative</td>\n",
       "      <td>5.9</td>\n",
       "      <td>4</td>\n",
       "      <td>30</td>\n",
       "      <td>8</td>\n",
       "      <td>Obese</td>\n",
       "      <td>140/90</td>\n",
       "      <td>85</td>\n",
       "      <td>3000</td>\n",
       "      <td>Sleep Apnea</td>\n",
       "    </tr>\n",
       "    <tr>\n",
       "      <th>...</th>\n",
       "      <td>...</td>\n",
       "      <td>...</td>\n",
       "      <td>...</td>\n",
       "      <td>...</td>\n",
       "      <td>...</td>\n",
       "      <td>...</td>\n",
       "      <td>...</td>\n",
       "      <td>...</td>\n",
       "      <td>...</td>\n",
       "      <td>...</td>\n",
       "      <td>...</td>\n",
       "      <td>...</td>\n",
       "      <td>...</td>\n",
       "    </tr>\n",
       "    <tr>\n",
       "      <th>369</th>\n",
       "      <td>370</td>\n",
       "      <td>Female</td>\n",
       "      <td>59</td>\n",
       "      <td>Nurse</td>\n",
       "      <td>8.1</td>\n",
       "      <td>9</td>\n",
       "      <td>75</td>\n",
       "      <td>3</td>\n",
       "      <td>Overweight</td>\n",
       "      <td>140/95</td>\n",
       "      <td>68</td>\n",
       "      <td>7000</td>\n",
       "      <td>Sleep Apnea</td>\n",
       "    </tr>\n",
       "    <tr>\n",
       "      <th>370</th>\n",
       "      <td>371</td>\n",
       "      <td>Female</td>\n",
       "      <td>59</td>\n",
       "      <td>Nurse</td>\n",
       "      <td>8.0</td>\n",
       "      <td>9</td>\n",
       "      <td>75</td>\n",
       "      <td>3</td>\n",
       "      <td>Overweight</td>\n",
       "      <td>140/95</td>\n",
       "      <td>68</td>\n",
       "      <td>7000</td>\n",
       "      <td>Sleep Apnea</td>\n",
       "    </tr>\n",
       "    <tr>\n",
       "      <th>371</th>\n",
       "      <td>372</td>\n",
       "      <td>Female</td>\n",
       "      <td>59</td>\n",
       "      <td>Nurse</td>\n",
       "      <td>8.1</td>\n",
       "      <td>9</td>\n",
       "      <td>75</td>\n",
       "      <td>3</td>\n",
       "      <td>Overweight</td>\n",
       "      <td>140/95</td>\n",
       "      <td>68</td>\n",
       "      <td>7000</td>\n",
       "      <td>Sleep Apnea</td>\n",
       "    </tr>\n",
       "    <tr>\n",
       "      <th>372</th>\n",
       "      <td>373</td>\n",
       "      <td>Female</td>\n",
       "      <td>59</td>\n",
       "      <td>Nurse</td>\n",
       "      <td>8.1</td>\n",
       "      <td>9</td>\n",
       "      <td>75</td>\n",
       "      <td>3</td>\n",
       "      <td>Overweight</td>\n",
       "      <td>140/95</td>\n",
       "      <td>68</td>\n",
       "      <td>7000</td>\n",
       "      <td>Sleep Apnea</td>\n",
       "    </tr>\n",
       "    <tr>\n",
       "      <th>373</th>\n",
       "      <td>374</td>\n",
       "      <td>Female</td>\n",
       "      <td>59</td>\n",
       "      <td>Nurse</td>\n",
       "      <td>8.1</td>\n",
       "      <td>9</td>\n",
       "      <td>75</td>\n",
       "      <td>3</td>\n",
       "      <td>Overweight</td>\n",
       "      <td>140/95</td>\n",
       "      <td>68</td>\n",
       "      <td>7000</td>\n",
       "      <td>Sleep Apnea</td>\n",
       "    </tr>\n",
       "  </tbody>\n",
       "</table>\n",
       "<p>374 rows × 13 columns</p>\n",
       "</div>"
      ]
     },
     "execution_count": 41,
     "metadata": {},
     "output_type": "execute_result"
    }
   ],
   "execution_count": 41
  },
  {
   "metadata": {},
   "cell_type": "markdown",
   "source": [
    "### Dataset Overview:\n",
    "The Sleep Health and Lifestyle Dataset comprises 374 rows and 13 columns, covering a wide range of variables related to sleep and daily habits. It includes details such as gender, age, occupation, sleep duration, quality of sleep, physical activity level, stress levels, BMI category, blood pressure, heart rate, daily steps, and the presence or absence of sleep disorders.\n",
    "\n",
    "### Dataset Columns:\n",
    "- Person ID: An identifier for each individual.\n",
    "- Gender: The gender of the person (Male/Female).\n",
    "- Age: The age of the person in years.\n",
    "- Occupation: The occupation or profession of the person.\n",
    "- Sleep Duration (hours): The number of hours the person sleeps per day.\n",
    "- Quality of Sleep (scale: 1-10): A subjective rating of the quality of sleep, ranging from 1 to 10.\n",
    "- Physical Activity Level (minutes/day): The number of minutes the person engages in physical activity daily.\n",
    "- Stress Level (scale: 1-10): A subjective rating of the stress level experienced by the person, ranging from 1 to 10.\n",
    "- BMI Category: The BMI category of the person (e.g., Underweight, Normal, Overweight).\n",
    "- Blood Pressure (systolic/diastolic): The blood pressure measurement of the person, indicated as systolic pressure over diastolic pressure.\n",
    "- Heart Rate (bpm): The resting heart rate of the person in beats per minute.\n",
    "- Daily Steps: The number of steps the person takes per day.\n",
    "- Sleep Disorder: The presence or absence of a sleep disorder in the person (None, Insomnia, Sleep Apnea)."
   ],
   "id": "cf30fea845b66c2d"
  },
  {
   "metadata": {},
   "cell_type": "markdown",
   "source": "## 1.3. Clear Data",
   "id": "8c31fd569ddd22ac"
  },
  {
   "metadata": {},
   "cell_type": "markdown",
   "source": "In this specific analysis, we will focus on the statistical calculation of the columns 'Quality of Sleep' and 'Stress Level' from the dataset.",
   "id": "1be92e8d09f655da"
  },
  {
   "metadata": {
    "ExecuteTime": {
     "end_time": "2024-10-19T10:00:17.924825Z",
     "start_time": "2024-10-19T10:00:17.919705Z"
    }
   },
   "cell_type": "code",
   "source": [
    "# Clear data\n",
    "data_df = data[['Quality of Sleep', 'Stress Level']]"
   ],
   "id": "57ff6eb81ea98541",
   "outputs": [],
   "execution_count": 42
  },
  {
   "metadata": {
    "ExecuteTime": {
     "end_time": "2024-10-19T10:00:17.975328Z",
     "start_time": "2024-10-19T10:00:17.965074Z"
    }
   },
   "cell_type": "code",
   "source": "data_df",
   "id": "27cd397025da85fa",
   "outputs": [
    {
     "data": {
      "text/plain": [
       "     Quality of Sleep  Stress Level\n",
       "0                   6             6\n",
       "1                   6             8\n",
       "2                   6             8\n",
       "3                   4             8\n",
       "4                   4             8\n",
       "..                ...           ...\n",
       "369                 9             3\n",
       "370                 9             3\n",
       "371                 9             3\n",
       "372                 9             3\n",
       "373                 9             3\n",
       "\n",
       "[374 rows x 2 columns]"
      ],
      "text/html": [
       "<div>\n",
       "<style scoped>\n",
       "    .dataframe tbody tr th:only-of-type {\n",
       "        vertical-align: middle;\n",
       "    }\n",
       "\n",
       "    .dataframe tbody tr th {\n",
       "        vertical-align: top;\n",
       "    }\n",
       "\n",
       "    .dataframe thead th {\n",
       "        text-align: right;\n",
       "    }\n",
       "</style>\n",
       "<table border=\"1\" class=\"dataframe\">\n",
       "  <thead>\n",
       "    <tr style=\"text-align: right;\">\n",
       "      <th></th>\n",
       "      <th>Quality of Sleep</th>\n",
       "      <th>Stress Level</th>\n",
       "    </tr>\n",
       "  </thead>\n",
       "  <tbody>\n",
       "    <tr>\n",
       "      <th>0</th>\n",
       "      <td>6</td>\n",
       "      <td>6</td>\n",
       "    </tr>\n",
       "    <tr>\n",
       "      <th>1</th>\n",
       "      <td>6</td>\n",
       "      <td>8</td>\n",
       "    </tr>\n",
       "    <tr>\n",
       "      <th>2</th>\n",
       "      <td>6</td>\n",
       "      <td>8</td>\n",
       "    </tr>\n",
       "    <tr>\n",
       "      <th>3</th>\n",
       "      <td>4</td>\n",
       "      <td>8</td>\n",
       "    </tr>\n",
       "    <tr>\n",
       "      <th>4</th>\n",
       "      <td>4</td>\n",
       "      <td>8</td>\n",
       "    </tr>\n",
       "    <tr>\n",
       "      <th>...</th>\n",
       "      <td>...</td>\n",
       "      <td>...</td>\n",
       "    </tr>\n",
       "    <tr>\n",
       "      <th>369</th>\n",
       "      <td>9</td>\n",
       "      <td>3</td>\n",
       "    </tr>\n",
       "    <tr>\n",
       "      <th>370</th>\n",
       "      <td>9</td>\n",
       "      <td>3</td>\n",
       "    </tr>\n",
       "    <tr>\n",
       "      <th>371</th>\n",
       "      <td>9</td>\n",
       "      <td>3</td>\n",
       "    </tr>\n",
       "    <tr>\n",
       "      <th>372</th>\n",
       "      <td>9</td>\n",
       "      <td>3</td>\n",
       "    </tr>\n",
       "    <tr>\n",
       "      <th>373</th>\n",
       "      <td>9</td>\n",
       "      <td>3</td>\n",
       "    </tr>\n",
       "  </tbody>\n",
       "</table>\n",
       "<p>374 rows × 2 columns</p>\n",
       "</div>"
      ]
     },
     "execution_count": 43,
     "metadata": {},
     "output_type": "execute_result"
    }
   ],
   "execution_count": 43
  },
  {
   "metadata": {},
   "cell_type": "markdown",
   "source": [
    "# 2. Descriptive Statistics:\n",
    "## 2.1. Calculate Descriptive Statistics:"
   ],
   "id": "28244b3dcdeafa19"
  },
  {
   "metadata": {
    "ExecuteTime": {
     "end_time": "2024-10-19T10:00:18.046380Z",
     "start_time": "2024-10-19T10:00:18.034705Z"
    }
   },
   "cell_type": "code",
   "source": [
    "# Calculate the variance\n",
    "variance_df = pd.DataFrame(data_df.var()).transpose()\n",
    "variance_df.index = ['variance']\n",
    "\n",
    "# Calculate IQR\n",
    "Q1 = data_df.quantile(0.25)\n",
    "Q3 = data_df.quantile(0.75)\n",
    "IQR = Q3 - Q1\n",
    "\n",
    "IQR_df = pd.DataFrame(IQR).transpose()\n",
    "IQR_df.index = ['IQR']\n",
    "\n",
    "# Calculate Range\n",
    "Range = data_df.max() - data_df.min()\n",
    "Range_df = pd.DataFrame(Range).transpose()\n",
    "Range_df.index = ['Range']\n",
    "\n",
    "descriptive_stat_df = pd.concat([data_df.describe(), variance_df, IQR_df, Range_df])"
   ],
   "id": "8fd4221764e947ac",
   "outputs": [],
   "execution_count": 44
  },
  {
   "metadata": {
    "ExecuteTime": {
     "end_time": "2024-10-19T10:00:18.115043Z",
     "start_time": "2024-10-19T10:00:18.104747Z"
    }
   },
   "cell_type": "code",
   "source": "descriptive_stat_df",
   "id": "8a0911971ec16d1e",
   "outputs": [
    {
     "data": {
      "text/plain": [
       "          Quality of Sleep  Stress Level\n",
       "count           374.000000    374.000000\n",
       "mean              7.312834      5.385027\n",
       "std               1.196956      1.774526\n",
       "min               4.000000      3.000000\n",
       "25%               6.000000      4.000000\n",
       "50%               7.000000      5.000000\n",
       "75%               8.000000      7.000000\n",
       "max               9.000000      8.000000\n",
       "variance          1.432703      3.148944\n",
       "IQR               2.000000      3.000000\n",
       "Range             5.000000      5.000000"
      ],
      "text/html": [
       "<div>\n",
       "<style scoped>\n",
       "    .dataframe tbody tr th:only-of-type {\n",
       "        vertical-align: middle;\n",
       "    }\n",
       "\n",
       "    .dataframe tbody tr th {\n",
       "        vertical-align: top;\n",
       "    }\n",
       "\n",
       "    .dataframe thead th {\n",
       "        text-align: right;\n",
       "    }\n",
       "</style>\n",
       "<table border=\"1\" class=\"dataframe\">\n",
       "  <thead>\n",
       "    <tr style=\"text-align: right;\">\n",
       "      <th></th>\n",
       "      <th>Quality of Sleep</th>\n",
       "      <th>Stress Level</th>\n",
       "    </tr>\n",
       "  </thead>\n",
       "  <tbody>\n",
       "    <tr>\n",
       "      <th>count</th>\n",
       "      <td>374.000000</td>\n",
       "      <td>374.000000</td>\n",
       "    </tr>\n",
       "    <tr>\n",
       "      <th>mean</th>\n",
       "      <td>7.312834</td>\n",
       "      <td>5.385027</td>\n",
       "    </tr>\n",
       "    <tr>\n",
       "      <th>std</th>\n",
       "      <td>1.196956</td>\n",
       "      <td>1.774526</td>\n",
       "    </tr>\n",
       "    <tr>\n",
       "      <th>min</th>\n",
       "      <td>4.000000</td>\n",
       "      <td>3.000000</td>\n",
       "    </tr>\n",
       "    <tr>\n",
       "      <th>25%</th>\n",
       "      <td>6.000000</td>\n",
       "      <td>4.000000</td>\n",
       "    </tr>\n",
       "    <tr>\n",
       "      <th>50%</th>\n",
       "      <td>7.000000</td>\n",
       "      <td>5.000000</td>\n",
       "    </tr>\n",
       "    <tr>\n",
       "      <th>75%</th>\n",
       "      <td>8.000000</td>\n",
       "      <td>7.000000</td>\n",
       "    </tr>\n",
       "    <tr>\n",
       "      <th>max</th>\n",
       "      <td>9.000000</td>\n",
       "      <td>8.000000</td>\n",
       "    </tr>\n",
       "    <tr>\n",
       "      <th>variance</th>\n",
       "      <td>1.432703</td>\n",
       "      <td>3.148944</td>\n",
       "    </tr>\n",
       "    <tr>\n",
       "      <th>IQR</th>\n",
       "      <td>2.000000</td>\n",
       "      <td>3.000000</td>\n",
       "    </tr>\n",
       "    <tr>\n",
       "      <th>Range</th>\n",
       "      <td>5.000000</td>\n",
       "      <td>5.000000</td>\n",
       "    </tr>\n",
       "  </tbody>\n",
       "</table>\n",
       "</div>"
      ]
     },
     "execution_count": 45,
     "metadata": {},
     "output_type": "execute_result"
    }
   ],
   "execution_count": 45
  },
  {
   "metadata": {},
   "cell_type": "markdown",
   "source": "Then we extract the relevant statistics for further analysis.",
   "id": "4dc96ef5e4bede52"
  },
  {
   "metadata": {
    "ExecuteTime": {
     "end_time": "2024-10-19T10:00:18.178566Z",
     "start_time": "2024-10-19T10:00:18.166638Z"
    }
   },
   "cell_type": "code",
   "source": [
    "def extract_measures(column_name, input_df):\n",
    "    extracted_stat = input_df[column_name]\n",
    "\n",
    "    extracted_stat = {\n",
    "        \"count\": extracted_stat['count'],\n",
    "        \"mean\": extracted_stat['mean'],\n",
    "        \"std\": extracted_stat['std'],\n",
    "        \"min\": extracted_stat['min'],\n",
    "        \"25%\": extracted_stat['25%'],\n",
    "        \"50%\": extracted_stat['50%'],\n",
    "        \"75%\": extracted_stat['75%'],\n",
    "        \"max\": extracted_stat['max'],\n",
    "        \"variance\": extracted_stat['variance'],\n",
    "        \"IQR\": extracted_stat['IQR'],\n",
    "        \"Range\": extracted_stat['Range']\n",
    "    }\n",
    "    return extracted_stat\n",
    "\n",
    "col1_ext = extract_measures('Stress Level', descriptive_stat_df)\n",
    "col2_ext = extract_measures('Quality of Sleep', descriptive_stat_df)"
   ],
   "id": "62cffffc17bece9f",
   "outputs": [],
   "execution_count": 46
  },
  {
   "metadata": {
    "ExecuteTime": {
     "end_time": "2024-10-19T10:00:18.243931Z",
     "start_time": "2024-10-19T10:00:18.234812Z"
    }
   },
   "cell_type": "code",
   "source": "col1_ext, col2_ext",
   "id": "7ba232be559121d4",
   "outputs": [
    {
     "data": {
      "text/plain": [
       "({'count': 374.0,\n",
       "  'mean': 5.385026737967914,\n",
       "  'std': 1.7745264441985167,\n",
       "  'min': 3.0,\n",
       "  '25%': 4.0,\n",
       "  '50%': 5.0,\n",
       "  '75%': 7.0,\n",
       "  'max': 8.0,\n",
       "  'variance': 3.1489441011598314,\n",
       "  'IQR': 3.0,\n",
       "  'Range': 5.0},\n",
       " {'count': 374.0,\n",
       "  'mean': 7.31283422459893,\n",
       "  'std': 1.1969559197336044,\n",
       "  'min': 4.0,\n",
       "  '25%': 6.0,\n",
       "  '50%': 7.0,\n",
       "  '75%': 8.0,\n",
       "  'max': 9.0,\n",
       "  'variance': 1.4327034737853186,\n",
       "  'IQR': 2.0,\n",
       "  'Range': 5.0})"
      ]
     },
     "execution_count": 47,
     "metadata": {},
     "output_type": "execute_result"
    }
   ],
   "execution_count": 47
  },
  {
   "metadata": {},
   "cell_type": "markdown",
   "source": [
    "## 2.2 Plot diagrams\n",
    "### 2.2.1 Histogram and Box Plot"
   ],
   "id": "1b42688c298f3279"
  },
  {
   "metadata": {
    "ExecuteTime": {
     "end_time": "2024-10-19T10:00:18.959581Z",
     "start_time": "2024-10-19T10:00:18.275095Z"
    }
   },
   "cell_type": "code",
   "source": [
    "fig, axs = plt.subplots(2, 2, figsize=(15, 12))\n",
    "\n",
    "# Histogram and Box Plot for Quality of Sleep\n",
    "sns.histplot(data_df['Quality of Sleep'], ax=axs[0, 0], kde=True)\n",
    "axs[0, 0].set_title(f'Histogram of Quality of Sleep')\n",
    "axs[0, 0].set_xlabel('Quality of Sleep')\n",
    "axs[0, 0].set_ylabel('Frequency')\n",
    "\n",
    "sns.boxplot(x=data_df['Quality of Sleep'], ax=axs[0, 1], showmeans=True, meanprops={\"marker\": \"+\", \"markeredgecolor\": \"black\", \"markersize\": \"10\"})\n",
    "axs[0, 1].set_title(f'Boxplot of Quality of Sleep')\n",
    "axs[0, 1].set_xlabel('Quality of Sleep')\n",
    "\n",
    "# Histogram and Box Plot for Stress Level\n",
    "sns.histplot(data_df['Stress Level'], ax=axs[1, 0], kde=True)\n",
    "axs[1, 0].set_title(f'Histogram of Stress Level')\n",
    "axs[1, 0].set_xlabel('Stress Level')\n",
    "axs[1, 0].set_ylabel('Frequency')\n",
    "\n",
    "sns.boxplot(x=data_df['Stress Level'], ax=axs[1, 1], showmeans=True, meanprops={\"marker\": \"+\", \"markeredgecolor\": \"black\", \"markersize\": \"10\"})\n",
    "axs[1, 1].set_title(f'Boxplot of Stress Level')\n",
    "axs[1, 1].set_xlabel('Stress Level')\n",
    "\n",
    "# Show Histogram and Box Plot\n",
    "plt.tight_layout()\n",
    "plt.show()"
   ],
   "id": "6d3b0550a9f829d6",
   "outputs": [
    {
     "data": {
      "text/plain": [
       "<Figure size 1500x1200 with 4 Axes>"
      ],
      "image/png": "[encoded data removed]"
     },
     "metadata": {},
     "output_type": "display_data"
    }
   ],
   "execution_count": 48
  },
  {
   "metadata": {},
   "cell_type": "markdown",
   "source": "### 2.2.2. Plot scatter plot",
   "id": "d1ddd31c9450ee9f"
  },
  {
   "metadata": {
    "ExecuteTime": {
     "end_time": "2024-10-19T10:00:19.227682Z",
     "start_time": "2024-10-19T10:00:18.993065Z"
    }
   },
   "cell_type": "code",
   "source": [
    "plt.figure(figsize=(10, 6))\n",
    "sns.scatterplot(x=data_df['Quality of Sleep'], y=data_df['Stress Level'], alpha=0.5)\n",
    "\n",
    "# Adding titles and labels\n",
    "plt.title(f'Scatter Plot of Quality of Sleep vs Stress Level')\n",
    "plt.xlabel('Quality of Sleep')\n",
    "plt.ylabel('Stress Level')\n",
    "\n",
    "# Show plot\n",
    "plt.show()"
   ],
   "id": "a180d185029c522b",
   "outputs": [
    {
     "data": {
      "text/plain": [
       "<Figure size 1000x600 with 1 Axes>"
      ],
      "image/png": "[encoded data removed]"
     },
     "metadata": {},
     "output_type": "display_data"
    }
   ],
   "execution_count": 49
  },
  {
   "metadata": {
    "ExecuteTime": {
     "end_time": "2024-10-19T10:01:02.875582Z",
     "start_time": "2024-10-19T10:01:02.866885Z"
    }
   },
   "cell_type": "code",
   "source": [
    "duplicates = data_df.duplicated(subset=['Quality of Sleep', 'Stress Level'])\n",
    "print(f\"Number of duplicate rows: {duplicates.sum()}\")"
   ],
   "id": "691c0c44f3345042",
   "outputs": [
    {
     "name": "stdout",
     "output_type": "stream",
     "text": [
      "Number of duplicate rows: 359\n"
     ]
    }
   ],
   "execution_count": 50
  }
 ],
 "metadata": {
  "kernelspec": {
   "display_name": "Python 3",
   "language": "python",
   "name": "python3"
  },
  "language_info": {
   "codemirror_mode": {
    "name": "ipython",
    "version": 2
   },
   "file_extension": ".py",
   "mimetype": "text/x-python",
   "name": "python",
   "nbconvert_exporter": "python",
   "pygments_lexer": "ipython2",
   "version": "2.7.6"
  }
 },
 "nbformat": 4,
 "nbformat_minor": 5
}
